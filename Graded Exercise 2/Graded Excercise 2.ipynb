{
 "cells": [
  {
   "cell_type": "markdown",
   "metadata": {},
   "source": [
    "### Graded Excercise 2"
   ]
  },
  {
   "cell_type": "markdown",
   "metadata": {},
   "source": [
    "### Part 1: Part 1: Analyze the Fake News Dataset"
   ]
  },
  {
   "cell_type": "code",
   "execution_count": null,
   "metadata": {},
   "outputs": [],
   "source": []
  },
  {
   "cell_type": "markdown",
   "metadata": {},
   "source": [
    "### Part 2: Gathering links"
   ]
  },
  {
   "cell_type": "code",
   "execution_count": 6,
   "metadata": {},
   "outputs": [],
   "source": [
    "import requests\n",
    "from bs4 import BeautifulSoup"
   ]
  },
  {
   "cell_type": "code",
   "execution_count": 12,
   "metadata": {},
   "outputs": [],
   "source": [
    "response = requests.get('https://www.bbc.com/news/world/europe')\n",
    "contents = response.text"
   ]
  },
  {
   "cell_type": "code",
   "execution_count": 44,
   "metadata": {},
   "outputs": [],
   "source": [
    "def extract_articles(contents):\n",
    "    soup = BeautifulSoup(contents, 'html.parser')\n",
    "    articles = soup.find_all('article')  # Replace 'your-article-class' with the actual class of the article links\n",
    "\n",
    "    article_links = []\n",
    "    for article in articles:\n",
    "        link = article['href']\n",
    "        article_links.append(link)\n",
    "\n",
    "    return article_links\n",
    "\n",
    "# Extract article links\n",
    "article_links = extract_articles(contents)\n",
    "\n",
    "# Print the extracted article links\n",
    "print(article_links)"
   ]
  },
  {
   "cell_type": "code",
   "execution_count": 45,
   "metadata": {},
   "outputs": [
    {
     "name": "stdout",
     "output_type": "stream",
     "text": [
      "[]\n"
     ]
    }
   ],
   "source": []
  },
  {
   "cell_type": "code",
   "execution_count": 31,
   "metadata": {},
   "outputs": [],
   "source": [
    "from bs4 import BeautifulSoup\n",
    "from requests import get\n",
    "import requests\n",
    "\n",
    "URL = \"https://www.bbc.com/news/world/europe\"\n",
    "page = requests.get(URL)\n",
    "soup = BeautifulSoup(page.content, 'html.parser')\n",
    "\n",
    "links_with_text = []\n",
    "for a in soup.select('a.storylink'):\n",
    "    links_with_text.append(a['href'])\n",
    "\n",
    "soup = BeautifulSoup(contents, 'html.parser')\n",
    "\n",
    "soup.find_all('a')"
   ]
  },
  {
   "cell_type": "code",
   "execution_count": 46,
   "metadata": {},
   "outputs": [],
   "source": [
    "from bs4 import BeautifulSoup\n",
    "import requests\n",
    "\n",
    "webpage = requests.get('https://www.bbc.com/news/world/europe')\n",
    "soup = BeautifulSoup(webpage.content)\n",
    "links = soup.find_all(\"article\")\n",
    "\n",
    "for ele in links:\n",
    "    print(ele.a[\"href\"])\n",
    "    print(ele.img[\"src\"])"
   ]
  }
 ],
 "metadata": {
  "kernelspec": {
   "display_name": "Python 3",
   "language": "python",
   "name": "python3"
  },
  "language_info": {
   "codemirror_mode": {
    "name": "ipython",
    "version": 3
   },
   "file_extension": ".py",
   "mimetype": "text/x-python",
   "name": "python",
   "nbconvert_exporter": "python",
   "pygments_lexer": "ipython3",
   "version": "3.10.4"
  }
 },
 "nbformat": 4,
 "nbformat_minor": 2
}
