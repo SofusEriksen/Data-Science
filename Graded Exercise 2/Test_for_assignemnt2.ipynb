{
 "cells": [
  {
   "cell_type": "code",
   "execution_count": null,
   "metadata": {},
   "outputs": [],
   "source": [
    "URL = \"https://www.bbc.com/news/world/europe\"\n",
    "page = requests.get(URL)\n",
    "soup = BeautifulSoup(page.content, 'html.parser')\n",
    "articles = soup.find_all('a')\n",
    "\n",
    "links_with_text = []\n",
    "for a in soup.select('a.storylink'):\n",
    "    links_with_text.append(a['href'])\n",
    "for x in articles:\n",
    "    print(x, sep='\\n')\n"
   ]
  },
  {
   "cell_type": "code",
   "execution_count": null,
   "metadata": {},
   "outputs": [],
   "source": [
    "from bs4 import BeautifulSoup\n",
    "import requests\n",
    "\n",
    "URL = \"https://www.bbc.com/news/world/europe\"\n",
    "page = requests.get(URL)\n",
    "soup = BeautifulSoup(page.content, 'html.parser')\n",
    "\n",
    "# Attempt to find more specific article links\n",
    "# This is a placeholder - replace 'article-class' with the actual class or adjust the search criteria based on your findings from the page inspection\n",
    "articles = soup.find_all('a', href=True)\n",
    "\n",
    "# Filter out links that do not lead to articles\n",
    "# This example just prints all links, but you would add conditions to filter these down to actual articles based on patterns you observe in the href or surrounding elements\n",
    "for a in articles:\n",
    "    link = a['href']\n",
    "    if \"https://www.bbc.com/news\" in link or link.startswith('/news'):\n",
    "        full_link = f\"https://www.bbc.com{link}\" if link.startswith('/') else link\n",
    "        print(full_link)\n"
   ]
  }
 ],
 "metadata": {
  "language_info": {
   "name": "python"
  }
 },
 "nbformat": 4,
 "nbformat_minor": 2
}
