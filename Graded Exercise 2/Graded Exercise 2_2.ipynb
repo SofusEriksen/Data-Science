{
 "cells": [
  {
   "cell_type": "code",
   "execution_count": 2,
   "metadata": {},
   "outputs": [
    {
     "name": "stderr",
     "output_type": "stream",
     "text": [
      "C:\\Users\\sofus\\AppData\\Roaming\\Python\\Python310\\site-packages\\requests\\__init__.py:102: RequestsDependencyWarning: urllib3 (1.26.9) or chardet (5.0.0)/charset_normalizer (2.0.12) doesn't match a supported version!\n",
      "  warnings.warn(\"urllib3 ({}) or chardet ({})/charset_normalizer ({}) doesn't match a supported \"\n",
      "Since the GPL-licensed package `unidecode` is not installed, using Python's `unicodedata` package which yields worse results.\n"
     ]
    }
   ],
   "source": [
    "import re\n",
    "import pandas as pd\n",
    "import requests\n",
    "from nltk.tokenize import word_tokenize\n",
    "from nltk.probability import FreqDist\n",
    "import matplotlib.pyplot as plt\n",
    "from cleantext import clean\n",
    "from io import StringIO\n"
   ]
  },
  {
   "cell_type": "code",
   "execution_count": 3,
   "metadata": {},
   "outputs": [],
   "source": [
    "# URL of the CSV file\n",
    "url = 'https://raw.githubusercontent.com/several27/FakeNewsCorpus/master/news_sample.csv'\n",
    "\n",
    "# Fetching the content from the URL\n",
    "response = requests.get(url)\n",
    "\n",
    "# Checking if the request was successful (status code 200)\n",
    "if response.status_code == 200:\n",
    "    # Reading CSV data using pandas\n",
    "    csv_data = StringIO(response.text)\n",
    "    df = pd.read_csv(csv_data)\n",
    "\n",
    "    # Displaying the first few rows of the DataFrame\n",
    "    #print(df.head())\n",
    "else:\n",
    "    print(f\"Failed to fetch data. Status code: {response.status_code}\")\n"
   ]
  },
  {
   "cell_type": "code",
   "execution_count": 4,
   "metadata": {},
   "outputs": [],
   "source": [
    "def clean_text_with_library(raw_text):\n",
    "    # Use clean-text library for text cleaning\n",
    "    cleaned_text = clean(\n",
    "        raw_text,\n",
    "        fix_unicode=True,\n",
    "        to_ascii=True,\n",
    "        lower=True,\n",
    "        no_line_breaks=True,\n",
    "        no_urls=True,\n",
    "        no_emails=True,\n",
    "        no_numbers=True,            \n",
    "        no_digits=True,             \n",
    "        no_punct=True,             \n",
    "        replace_with_url=\"<URL>\",\n",
    "        replace_with_email=\"<EMAIL>\",\n",
    "        replace_with_number=\"<NUM>\",\n",
    "        replace_with_digit=\"<NUM>\"\n",
    "    )\n",
    "    cleaned_text = re.sub(r'\\b\\d{4}-\\d{2}-\\d{2}\\b', '<DATE>', cleaned_text)\n",
    "\n",
    "    return cleaned_text"
   ]
  },
  {
   "cell_type": "code",
   "execution_count": 7,
   "metadata": {},
   "outputs": [],
   "source": [
    "df['content'] = df['content'].apply(clean_text_with_library)\n",
    "df.to_csv('Cleaned_data.csv', index=False)  \n",
    "df = df.dropna(subset = ['type'])\n",
    "df = df[df['type'] != 'unknown']\n"
   ]
  },
  {
   "cell_type": "code",
   "execution_count": 8,
   "metadata": {},
   "outputs": [
    {
     "data": {
      "text/plain": [
       "array(['unreliable', 'fake', 'clickbait', 'conspiracy', 'reliable',\n",
       "       'bias', 'hate', 'junksci', 'political'], dtype=object)"
      ]
     },
     "execution_count": 8,
     "metadata": {},
     "output_type": "execute_result"
    }
   ],
   "source": [
    "article_types = df['type'].unique()\n",
    "article_types"
   ]
  },
  {
   "cell_type": "code",
   "execution_count": 9,
   "metadata": {},
   "outputs": [
    {
     "name": "stdout",
     "output_type": "stream",
     "text": [
      "Percentage distribution of article categories:\n",
      "fake        88.793103\n",
      "reliable    11.206897\n",
      "Name: category, dtype: float64\n"
     ]
    }
   ],
   "source": [
    "\n",
    "# Categorize into 'fake' and 'reliable'\n",
    "df['category'] = df['type'].apply(lambda x: 'fake' if x in ['unreliable', 'fake', 'clickbait', 'conspiracy', 'bias', 'hate', 'junksci'] else 'reliable')\n",
    "\n",
    "# Examine the percentage distribution\n",
    "distribution = df['category'].value_counts(normalize=True) * 100\n",
    "\n",
    "print(\"Percentage distribution of article categories:\")\n",
    "print(distribution)\n"
   ]
  },
  {
   "cell_type": "markdown",
   "metadata": {},
   "source": [
    "### Is the datasat balanced? \n",
    "In the dataset, the percentage distribution indicates that 'fake' articles constitute approximately 88.79%, while 'reliable' articles make up around 11.21%. This distribution in the dataset is highly imbalanced, with 'fake' articles being the dominating factor.\n",
    "\n",
    "The balance of a dataset is essential for general machine learning and  other statistical analyses. A balanced dataset is one where each class or category has roughly the same number of instances. In our case, the dataset is heavily skewed towards 'fake' articles. Here are some of my general considerations:\n",
    "\n",
    "### Importance of a Balanced Dataset:\n",
    "\n",
    "##### Model Performance: \n",
    "Imbalanced datasets can lead to biased model performance. Machine learning models trained on imbalanced data may struggle to correctly predict the minority class (in this case, 'reliable' articles) because they are biased towards the majority class ('fake' articles).\n",
    "\n",
    "##### Evaluation Metrics:\n",
    "Common evaluation metrics, such as accuracy, may not provide an accurate assessment of model performance in imbalanced datasets. For example, a model could achieve high accuracy by simply predicting the majority class all the time.\n",
    "\n",
    "##### Generalization:\n",
    "Models trained on imbalanced data might not generalize well to real-world scenarios, where the distribution of classes may be different. A balanced dataset helps ensure that models learn patterns from both classes and can generalize better."
   ]
  }
 ],
 "metadata": {
  "kernelspec": {
   "display_name": "Python 3",
   "language": "python",
   "name": "python3"
  },
  "language_info": {
   "codemirror_mode": {
    "name": "ipython",
    "version": 3
   },
   "file_extension": ".py",
   "mimetype": "text/x-python",
   "name": "python",
   "nbconvert_exporter": "python",
   "pygments_lexer": "ipython3",
   "version": "3.10.4"
  }
 },
 "nbformat": 4,
 "nbformat_minor": 2
}
